{
 "cells": [
  {
   "cell_type": "markdown",
   "id": "ccec8cfc",
   "metadata": {},
   "source": [
    "# Forecasting Book Sales with RNN"
   ]
  },
  {
   "cell_type": "markdown",
   "id": "b9fb3ccb",
   "metadata": {},
   "source": [
    "## Import modules and loading the dataset"
   ]
  },
  {
   "cell_type": "code",
   "execution_count": 8,
   "id": "94f50451",
   "metadata": {},
   "outputs": [],
   "source": [
    "import numpy as np\n",
    "import matplotlib.pyplot as plt\n",
    "import tensorflow as tf\n",
    "from tensorflow import keras\n",
    "from tensorflow.keras.models import Sequential\n",
    "from tensorflow.keras.layers import Dense\n",
    "from tensorflow.keras.layers import SimpleRNN\n",
    "import logging\n",
    "tf.get_logger().setLevel(logging.ERROR)\n",
    "import pandas as pd\n",
    "\n",
    "EPOCHS=100\n",
    "BATCH_SIZE=16\n",
    "TRAIN_TEST_SPLIT=0.8\n",
    "MIN=12\n",
    "FILE_NAME='../Forecasting Book Sales/book_stores_sales.csv'\n",
    "\n",
    "def readfile(file_name):\n",
    "    file = open(file_name, 'r', encoding='utf-8')\n",
    "    next(file)\n",
    "    data = []\n",
    "    for line in (file):\n",
    "        values = line.split(',')\n",
    "        data.append(float(values[1]))\n",
    "    file.close()\n",
    "    return np.array(data, dtype=np.float32)"
   ]
  },
  {
   "cell_type": "markdown",
   "id": "2dfd1360",
   "metadata": {},
   "source": [
    "##  Read  the data and split into training and test data"
   ]
  },
  {
   "cell_type": "code",
   "execution_count": 11,
   "id": "4a35e687",
   "metadata": {},
   "outputs": [],
   "source": [
    "sales = readfile(FILE_NAME)\n",
    "months = len(sales)\n",
    "split = int(months * TRAIN_TEST_SPLIT)\n",
    "train_sales = sales[0:split]\n",
    "test_sales = sales[split:]"
   ]
  },
  {
   "cell_type": "markdown",
   "id": "0bd9c1f9",
   "metadata": {},
   "source": [
    "## Plot Dataset"
   ]
  },
  {
   "cell_type": "code",
   "execution_count": 12,
   "id": "1211fcef",
   "metadata": {},
   "outputs": [
    {
     "data": {
      "image/png": "[encoded data removed]",
      "text/plain": [
       "<Figure size 432x288 with 1 Axes>"
      ]
     },
     "metadata": {
      "needs_background": "light"
     },
     "output_type": "display_data"
    }
   ],
   "source": [
    "x = range(len(sales))\n",
    "plt.plot(x, sales, 'r-', label='book sales')\n",
    "plt.title('Book store sales')\n",
    "plt.axis([0, 339, 0.0, 3000.0])\n",
    "plt.xlabel('Months')\n",
    "plt.ylabel('Sales (millions $)')\n",
    "plt.legend()\n",
    "plt.show()"
   ]
  },
  {
   "cell_type": "markdown",
   "id": "71b13e18",
   "metadata": {},
   "source": [
    "## Standardize train and test data\n",
    "### By subtracting the mean and dividing by the standard deviation"
   ]
  },
  {
   "cell_type": "code",
   "execution_count": 13,
   "id": "9320e12e",
   "metadata": {},
   "outputs": [],
   "source": [
    "mean = np.mean(train_sales)\n",
    "stddev = np.std(train_sales)\n",
    "train_sales_std = (train_sales - mean)/stddev\n",
    "test_sales_std = (test_sales - mean)/stddev"
   ]
  },
  {
   "cell_type": "markdown",
   "id": "b41ff9e2",
   "metadata": {},
   "source": [
    "## Create training and test examples"
   ]
  },
  {
   "cell_type": "code",
   "execution_count": 14,
   "id": "ddbcbf3f",
   "metadata": {},
   "outputs": [],
   "source": [
    "# Training Example\n",
    "train_months = len(train_sales)\n",
    "train_X = np.zeros((train_months-MIN, train_months-1, 1))\n",
    "train_y = np.zeros((train_months-MIN, 1))\n",
    "for i in range(0, train_months-MIN):\n",
    "    train_X[i, -(i+MIN):, 0] = train_sales_std[0:i+MIN]\n",
    "    train_y[i, 0] = train_sales_std[i+MIN]\n",
    "\n",
    "# Test examples.\n",
    "test_months = len(test_sales)\n",
    "test_X = np.zeros((test_months-MIN, test_months-1, 1))\n",
    "test_y = np.zeros((test_months-MIN, 1))\n",
    "for i in range(0, test_months-MIN):\n",
    "    test_X[i, -(i+MIN):, 0] = test_sales_std[0:i+MIN]\n",
    "    test_y[i, 0] = test_sales_std[i+MIN]"
   ]
  },
  {
   "cell_type": "markdown",
   "id": "ff73c8bc",
   "metadata": {},
   "source": [
    "## Create the RNN model"
   ]
  },
  {
   "cell_type": "code",
   "execution_count": 15,
   "id": "cdefa02c",
   "metadata": {
    "scrolled": true
   },
   "outputs": [
    {
     "name": "stdout",
     "output_type": "stream",
     "text": [
      "Model: \"sequential\"\n",
      "_________________________________________________________________\n",
      " Layer (type)                Output Shape              Param #   \n",
      "=================================================================\n",
      " simple_rnn (SimpleRNN)      (None, 128)               16640     \n",
      "                                                                 \n",
      " dense (Dense)               (None, 1)                 129       \n",
      "                                                                 \n",
      "=================================================================\n",
      "Total params: 16,769\n",
      "Trainable params: 16,769\n",
      "Non-trainable params: 0\n",
      "_________________________________________________________________\n",
      "Epoch 1/100\n",
      "17/17 - 1s - loss: 0.8109 - mean_absolute_error: 0.6492 - val_loss: 0.5405 - val_mean_absolute_error: 0.6639 - 1s/epoch - 84ms/step\n",
      "Epoch 2/100\n",
      "17/17 - 1s - loss: 0.4648 - mean_absolute_error: 0.5151 - val_loss: 0.2408 - val_mean_absolute_error: 0.3681 - 578ms/epoch - 34ms/step\n",
      "Epoch 3/100\n",
      "17/17 - 1s - loss: 0.2968 - mean_absolute_error: 0.3991 - val_loss: 0.1567 - val_mean_absolute_error: 0.2773 - 565ms/epoch - 33ms/step\n",
      "Epoch 4/100\n",
      "17/17 - 1s - loss: 0.1364 - mean_absolute_error: 0.2813 - val_loss: 0.0860 - val_mean_absolute_error: 0.2042 - 569ms/epoch - 33ms/step\n",
      "Epoch 5/100\n",
      "17/17 - 1s - loss: 0.0851 - mean_absolute_error: 0.2215 - val_loss: 0.1177 - val_mean_absolute_error: 0.2507 - 569ms/epoch - 33ms/step\n",
      "Epoch 6/100\n",
      "17/17 - 1s - loss: 0.0579 - mean_absolute_error: 0.1819 - val_loss: 0.0524 - val_mean_absolute_error: 0.1443 - 565ms/epoch - 33ms/step\n",
      "Epoch 7/100\n",
      "17/17 - 1s - loss: 0.0548 - mean_absolute_error: 0.1742 - val_loss: 0.0817 - val_mean_absolute_error: 0.2080 - 577ms/epoch - 34ms/step\n",
      "Epoch 8/100\n",
      "17/17 - 1s - loss: 0.0422 - mean_absolute_error: 0.1537 - val_loss: 0.0501 - val_mean_absolute_error: 0.1513 - 576ms/epoch - 34ms/step\n",
      "Epoch 9/100\n",
      "17/17 - 1s - loss: 0.0331 - mean_absolute_error: 0.1394 - val_loss: 0.0436 - val_mean_absolute_error: 0.1311 - 572ms/epoch - 34ms/step\n",
      "Epoch 10/100\n",
      "17/17 - 1s - loss: 0.0391 - mean_absolute_error: 0.1542 - val_loss: 0.0655 - val_mean_absolute_error: 0.1753 - 586ms/epoch - 34ms/step\n",
      "Epoch 11/100\n",
      "17/17 - 1s - loss: 0.0439 - mean_absolute_error: 0.1578 - val_loss: 0.0499 - val_mean_absolute_error: 0.1468 - 583ms/epoch - 34ms/step\n",
      "Epoch 12/100\n",
      "17/17 - 1s - loss: 0.0390 - mean_absolute_error: 0.1534 - val_loss: 0.0468 - val_mean_absolute_error: 0.1383 - 566ms/epoch - 33ms/step\n",
      "Epoch 13/100\n",
      "17/17 - 1s - loss: 0.0385 - mean_absolute_error: 0.1444 - val_loss: 0.0479 - val_mean_absolute_error: 0.1430 - 567ms/epoch - 33ms/step\n",
      "Epoch 14/100\n",
      "17/17 - 1s - loss: 0.0320 - mean_absolute_error: 0.1328 - val_loss: 0.0403 - val_mean_absolute_error: 0.1328 - 570ms/epoch - 34ms/step\n",
      "Epoch 15/100\n",
      "17/17 - 1s - loss: 0.0223 - mean_absolute_error: 0.1138 - val_loss: 0.0506 - val_mean_absolute_error: 0.1555 - 580ms/epoch - 34ms/step\n",
      "Epoch 16/100\n",
      "17/17 - 1s - loss: 0.0219 - mean_absolute_error: 0.1127 - val_loss: 0.0465 - val_mean_absolute_error: 0.1517 - 568ms/epoch - 33ms/step\n",
      "Epoch 17/100\n",
      "17/17 - 1s - loss: 0.0233 - mean_absolute_error: 0.1148 - val_loss: 0.0330 - val_mean_absolute_error: 0.1132 - 573ms/epoch - 34ms/step\n",
      "Epoch 18/100\n",
      "17/17 - 1s - loss: 0.0209 - mean_absolute_error: 0.1117 - val_loss: 0.0566 - val_mean_absolute_error: 0.1625 - 573ms/epoch - 34ms/step\n",
      "Epoch 19/100\n",
      "17/17 - 1s - loss: 0.0303 - mean_absolute_error: 0.1255 - val_loss: 0.0528 - val_mean_absolute_error: 0.1585 - 572ms/epoch - 34ms/step\n",
      "Epoch 20/100\n",
      "17/17 - 1s - loss: 0.0277 - mean_absolute_error: 0.1302 - val_loss: 0.0366 - val_mean_absolute_error: 0.1421 - 587ms/epoch - 35ms/step\n",
      "Epoch 21/100\n",
      "17/17 - 1s - loss: 0.0291 - mean_absolute_error: 0.1287 - val_loss: 0.0913 - val_mean_absolute_error: 0.2223 - 555ms/epoch - 33ms/step\n",
      "Epoch 22/100\n",
      "17/17 - 1s - loss: 0.0263 - mean_absolute_error: 0.1184 - val_loss: 0.0383 - val_mean_absolute_error: 0.1282 - 570ms/epoch - 34ms/step\n",
      "Epoch 23/100\n",
      "17/17 - 1s - loss: 0.0205 - mean_absolute_error: 0.1059 - val_loss: 0.0472 - val_mean_absolute_error: 0.1514 - 586ms/epoch - 34ms/step\n",
      "Epoch 24/100\n",
      "17/17 - 1s - loss: 0.0198 - mean_absolute_error: 0.1014 - val_loss: 0.0452 - val_mean_absolute_error: 0.1428 - 600ms/epoch - 35ms/step\n",
      "Epoch 25/100\n",
      "17/17 - 1s - loss: 0.0244 - mean_absolute_error: 0.1132 - val_loss: 0.0482 - val_mean_absolute_error: 0.1531 - 592ms/epoch - 35ms/step\n",
      "Epoch 26/100\n",
      "17/17 - 1s - loss: 0.0207 - mean_absolute_error: 0.1106 - val_loss: 0.0320 - val_mean_absolute_error: 0.1254 - 590ms/epoch - 35ms/step\n",
      "Epoch 27/100\n",
      "17/17 - 1s - loss: 0.0249 - mean_absolute_error: 0.1172 - val_loss: 0.0709 - val_mean_absolute_error: 0.1948 - 574ms/epoch - 34ms/step\n",
      "Epoch 28/100\n",
      "17/17 - 1s - loss: 0.0168 - mean_absolute_error: 0.0978 - val_loss: 0.0280 - val_mean_absolute_error: 0.1103 - 578ms/epoch - 34ms/step\n",
      "Epoch 29/100\n",
      "17/17 - 1s - loss: 0.0200 - mean_absolute_error: 0.1055 - val_loss: 0.0588 - val_mean_absolute_error: 0.1782 - 598ms/epoch - 35ms/step\n",
      "Epoch 30/100\n",
      "17/17 - 1s - loss: 0.0154 - mean_absolute_error: 0.0940 - val_loss: 0.0290 - val_mean_absolute_error: 0.1075 - 592ms/epoch - 35ms/step\n",
      "Epoch 31/100\n",
      "17/17 - 1s - loss: 0.0160 - mean_absolute_error: 0.0906 - val_loss: 0.0402 - val_mean_absolute_error: 0.1441 - 601ms/epoch - 35ms/step\n",
      "Epoch 32/100\n",
      "17/17 - 1s - loss: 0.0219 - mean_absolute_error: 0.1091 - val_loss: 0.0438 - val_mean_absolute_error: 0.1412 - 581ms/epoch - 34ms/step\n",
      "Epoch 33/100\n",
      "17/17 - 1s - loss: 0.0189 - mean_absolute_error: 0.1015 - val_loss: 0.0525 - val_mean_absolute_error: 0.1574 - 583ms/epoch - 34ms/step\n",
      "Epoch 34/100\n",
      "17/17 - 1s - loss: 0.0214 - mean_absolute_error: 0.1044 - val_loss: 0.0673 - val_mean_absolute_error: 0.1843 - 591ms/epoch - 35ms/step\n",
      "Epoch 35/100\n",
      "17/17 - 1s - loss: 0.0177 - mean_absolute_error: 0.0992 - val_loss: 0.0492 - val_mean_absolute_error: 0.1519 - 582ms/epoch - 34ms/step\n",
      "Epoch 36/100\n",
      "17/17 - 1s - loss: 0.0139 - mean_absolute_error: 0.0907 - val_loss: 0.0360 - val_mean_absolute_error: 0.1238 - 597ms/epoch - 35ms/step\n",
      "Epoch 37/100\n",
      "17/17 - 1s - loss: 0.0134 - mean_absolute_error: 0.0883 - val_loss: 0.0601 - val_mean_absolute_error: 0.1636 - 596ms/epoch - 35ms/step\n",
      "Epoch 38/100\n",
      "17/17 - 1s - loss: 0.0198 - mean_absolute_error: 0.1020 - val_loss: 0.0384 - val_mean_absolute_error: 0.1360 - 602ms/epoch - 35ms/step\n",
      "Epoch 39/100\n",
      "17/17 - 1s - loss: 0.0174 - mean_absolute_error: 0.0950 - val_loss: 0.0653 - val_mean_absolute_error: 0.1800 - 607ms/epoch - 36ms/step\n",
      "Epoch 40/100\n",
      "17/17 - 1s - loss: 0.0174 - mean_absolute_error: 0.0940 - val_loss: 0.0486 - val_mean_absolute_error: 0.1410 - 574ms/epoch - 34ms/step\n",
      "Epoch 41/100\n",
      "17/17 - 1s - loss: 0.0141 - mean_absolute_error: 0.0860 - val_loss: 0.0352 - val_mean_absolute_error: 0.1246 - 572ms/epoch - 34ms/step\n",
      "Epoch 42/100\n",
      "17/17 - 1s - loss: 0.0170 - mean_absolute_error: 0.0985 - val_loss: 0.0581 - val_mean_absolute_error: 0.1748 - 572ms/epoch - 34ms/step\n",
      "Epoch 43/100\n",
      "17/17 - 1s - loss: 0.0191 - mean_absolute_error: 0.1033 - val_loss: 0.0413 - val_mean_absolute_error: 0.1331 - 593ms/epoch - 35ms/step\n",
      "Epoch 44/100\n",
      "17/17 - 1s - loss: 0.0135 - mean_absolute_error: 0.0870 - val_loss: 0.0658 - val_mean_absolute_error: 0.1767 - 582ms/epoch - 34ms/step\n",
      "Epoch 45/100\n",
      "17/17 - 1s - loss: 0.0130 - mean_absolute_error: 0.0857 - val_loss: 0.0289 - val_mean_absolute_error: 0.1133 - 592ms/epoch - 35ms/step\n",
      "Epoch 46/100\n",
      "17/17 - 1s - loss: 0.0146 - mean_absolute_error: 0.0933 - val_loss: 0.0415 - val_mean_absolute_error: 0.1465 - 577ms/epoch - 34ms/step\n",
      "Epoch 47/100\n",
      "17/17 - 1s - loss: 0.0156 - mean_absolute_error: 0.0929 - val_loss: 0.0475 - val_mean_absolute_error: 0.1464 - 580ms/epoch - 34ms/step\n",
      "Epoch 48/100\n",
      "17/17 - 1s - loss: 0.0159 - mean_absolute_error: 0.0879 - val_loss: 0.0309 - val_mean_absolute_error: 0.1095 - 575ms/epoch - 34ms/step\n",
      "Epoch 49/100\n",
      "17/17 - 1s - loss: 0.0147 - mean_absolute_error: 0.0907 - val_loss: 0.0367 - val_mean_absolute_error: 0.1281 - 577ms/epoch - 34ms/step\n",
      "Epoch 50/100\n",
      "17/17 - 1s - loss: 0.0142 - mean_absolute_error: 0.0903 - val_loss: 0.0597 - val_mean_absolute_error: 0.1668 - 579ms/epoch - 34ms/step\n",
      "Epoch 51/100\n",
      "17/17 - 1s - loss: 0.0137 - mean_absolute_error: 0.0889 - val_loss: 0.0403 - val_mean_absolute_error: 0.1324 - 588ms/epoch - 35ms/step\n"
     ]
    },
    {
     "name": "stdout",
     "output_type": "stream",
     "text": [
      "Epoch 52/100\n",
      "17/17 - 1s - loss: 0.0144 - mean_absolute_error: 0.0873 - val_loss: 0.0590 - val_mean_absolute_error: 0.1696 - 600ms/epoch - 35ms/step\n",
      "Epoch 53/100\n",
      "17/17 - 1s - loss: 0.0149 - mean_absolute_error: 0.0867 - val_loss: 0.0695 - val_mean_absolute_error: 0.1792 - 580ms/epoch - 34ms/step\n",
      "Epoch 54/100\n",
      "17/17 - 1s - loss: 0.0168 - mean_absolute_error: 0.0907 - val_loss: 0.0464 - val_mean_absolute_error: 0.1500 - 575ms/epoch - 34ms/step\n",
      "Epoch 55/100\n",
      "17/17 - 1s - loss: 0.0176 - mean_absolute_error: 0.0982 - val_loss: 0.0349 - val_mean_absolute_error: 0.1299 - 590ms/epoch - 35ms/step\n",
      "Epoch 56/100\n",
      "17/17 - 1s - loss: 0.0137 - mean_absolute_error: 0.0895 - val_loss: 0.0533 - val_mean_absolute_error: 0.1684 - 592ms/epoch - 35ms/step\n",
      "Epoch 57/100\n",
      "17/17 - 1s - loss: 0.0131 - mean_absolute_error: 0.0882 - val_loss: 0.0346 - val_mean_absolute_error: 0.1202 - 572ms/epoch - 34ms/step\n",
      "Epoch 58/100\n",
      "17/17 - 1s - loss: 0.0131 - mean_absolute_error: 0.0845 - val_loss: 0.0366 - val_mean_absolute_error: 0.1300 - 575ms/epoch - 34ms/step\n",
      "Epoch 59/100\n",
      "17/17 - 1s - loss: 0.0120 - mean_absolute_error: 0.0792 - val_loss: 0.0445 - val_mean_absolute_error: 0.1458 - 572ms/epoch - 34ms/step\n",
      "Epoch 60/100\n",
      "17/17 - 1s - loss: 0.0139 - mean_absolute_error: 0.0928 - val_loss: 0.0488 - val_mean_absolute_error: 0.1593 - 568ms/epoch - 33ms/step\n",
      "Epoch 61/100\n",
      "17/17 - 1s - loss: 0.0139 - mean_absolute_error: 0.0902 - val_loss: 0.0496 - val_mean_absolute_error: 0.1540 - 575ms/epoch - 34ms/step\n",
      "Epoch 62/100\n",
      "17/17 - 1s - loss: 0.0122 - mean_absolute_error: 0.0845 - val_loss: 0.0361 - val_mean_absolute_error: 0.1272 - 597ms/epoch - 35ms/step\n",
      "Epoch 63/100\n",
      "17/17 - 1s - loss: 0.0106 - mean_absolute_error: 0.0776 - val_loss: 0.0321 - val_mean_absolute_error: 0.1277 - 569ms/epoch - 33ms/step\n",
      "Epoch 64/100\n",
      "17/17 - 1s - loss: 0.0171 - mean_absolute_error: 0.0986 - val_loss: 0.0321 - val_mean_absolute_error: 0.1222 - 583ms/epoch - 34ms/step\n",
      "Epoch 65/100\n",
      "17/17 - 1s - loss: 0.0204 - mean_absolute_error: 0.1044 - val_loss: 0.0440 - val_mean_absolute_error: 0.1435 - 575ms/epoch - 34ms/step\n",
      "Epoch 66/100\n",
      "17/17 - 1s - loss: 0.0138 - mean_absolute_error: 0.0899 - val_loss: 0.0320 - val_mean_absolute_error: 0.1213 - 593ms/epoch - 35ms/step\n",
      "Epoch 67/100\n",
      "17/17 - 1s - loss: 0.0143 - mean_absolute_error: 0.0879 - val_loss: 0.0572 - val_mean_absolute_error: 0.1787 - 566ms/epoch - 33ms/step\n",
      "Epoch 68/100\n",
      "17/17 - 1s - loss: 0.0169 - mean_absolute_error: 0.0985 - val_loss: 0.0467 - val_mean_absolute_error: 0.1508 - 568ms/epoch - 33ms/step\n",
      "Epoch 69/100\n",
      "17/17 - 1s - loss: 0.0156 - mean_absolute_error: 0.0958 - val_loss: 0.0435 - val_mean_absolute_error: 0.1372 - 566ms/epoch - 33ms/step\n",
      "Epoch 70/100\n",
      "17/17 - 1s - loss: 0.0094 - mean_absolute_error: 0.0722 - val_loss: 0.0410 - val_mean_absolute_error: 0.1380 - 589ms/epoch - 35ms/step\n",
      "Epoch 71/100\n",
      "17/17 - 1s - loss: 0.0095 - mean_absolute_error: 0.0741 - val_loss: 0.0425 - val_mean_absolute_error: 0.1428 - 579ms/epoch - 34ms/step\n",
      "Epoch 72/100\n",
      "17/17 - 1s - loss: 0.0120 - mean_absolute_error: 0.0845 - val_loss: 0.0451 - val_mean_absolute_error: 0.1406 - 590ms/epoch - 35ms/step\n",
      "Epoch 73/100\n",
      "17/17 - 1s - loss: 0.0111 - mean_absolute_error: 0.0790 - val_loss: 0.0434 - val_mean_absolute_error: 0.1432 - 575ms/epoch - 34ms/step\n",
      "Epoch 74/100\n",
      "17/17 - 1s - loss: 0.0101 - mean_absolute_error: 0.0763 - val_loss: 0.0560 - val_mean_absolute_error: 0.1535 - 602ms/epoch - 35ms/step\n",
      "Epoch 75/100\n",
      "17/17 - 1s - loss: 0.0095 - mean_absolute_error: 0.0714 - val_loss: 0.0453 - val_mean_absolute_error: 0.1353 - 598ms/epoch - 35ms/step\n",
      "Epoch 76/100\n",
      "17/17 - 1s - loss: 0.0104 - mean_absolute_error: 0.0749 - val_loss: 0.0561 - val_mean_absolute_error: 0.1679 - 582ms/epoch - 34ms/step\n",
      "Epoch 77/100\n",
      "17/17 - 1s - loss: 0.0090 - mean_absolute_error: 0.0720 - val_loss: 0.0413 - val_mean_absolute_error: 0.1372 - 572ms/epoch - 34ms/step\n",
      "Epoch 78/100\n",
      "17/17 - 1s - loss: 0.0081 - mean_absolute_error: 0.0624 - val_loss: 0.0411 - val_mean_absolute_error: 0.1395 - 607ms/epoch - 36ms/step\n",
      "Epoch 79/100\n",
      "17/17 - 1s - loss: 0.0106 - mean_absolute_error: 0.0732 - val_loss: 0.0596 - val_mean_absolute_error: 0.1787 - 609ms/epoch - 36ms/step\n",
      "Epoch 80/100\n",
      "17/17 - 1s - loss: 0.0133 - mean_absolute_error: 0.0875 - val_loss: 0.0375 - val_mean_absolute_error: 0.1356 - 586ms/epoch - 34ms/step\n",
      "Epoch 81/100\n",
      "17/17 - 1s - loss: 0.0100 - mean_absolute_error: 0.0757 - val_loss: 0.0292 - val_mean_absolute_error: 0.1212 - 580ms/epoch - 34ms/step\n",
      "Epoch 82/100\n",
      "17/17 - 1s - loss: 0.0093 - mean_absolute_error: 0.0722 - val_loss: 0.0550 - val_mean_absolute_error: 0.1661 - 573ms/epoch - 34ms/step\n",
      "Epoch 83/100\n",
      "17/17 - 1s - loss: 0.0147 - mean_absolute_error: 0.0877 - val_loss: 0.0504 - val_mean_absolute_error: 0.1570 - 570ms/epoch - 34ms/step\n",
      "Epoch 84/100\n",
      "17/17 - 1s - loss: 0.0111 - mean_absolute_error: 0.0798 - val_loss: 0.0367 - val_mean_absolute_error: 0.1253 - 571ms/epoch - 34ms/step\n",
      "Epoch 85/100\n",
      "17/17 - 1s - loss: 0.0095 - mean_absolute_error: 0.0739 - val_loss: 0.0600 - val_mean_absolute_error: 0.1746 - 576ms/epoch - 34ms/step\n",
      "Epoch 86/100\n",
      "17/17 - 1s - loss: 0.0112 - mean_absolute_error: 0.0819 - val_loss: 0.0414 - val_mean_absolute_error: 0.1403 - 581ms/epoch - 34ms/step\n",
      "Epoch 87/100\n",
      "17/17 - 1s - loss: 0.0104 - mean_absolute_error: 0.0778 - val_loss: 0.0357 - val_mean_absolute_error: 0.1349 - 574ms/epoch - 34ms/step\n",
      "Epoch 88/100\n",
      "17/17 - 1s - loss: 0.0107 - mean_absolute_error: 0.0798 - val_loss: 0.0466 - val_mean_absolute_error: 0.1528 - 576ms/epoch - 34ms/step\n",
      "Epoch 89/100\n",
      "17/17 - 1s - loss: 0.0088 - mean_absolute_error: 0.0702 - val_loss: 0.0513 - val_mean_absolute_error: 0.1497 - 572ms/epoch - 34ms/step\n",
      "Epoch 90/100\n",
      "17/17 - 1s - loss: 0.0101 - mean_absolute_error: 0.0751 - val_loss: 0.0606 - val_mean_absolute_error: 0.1707 - 564ms/epoch - 33ms/step\n",
      "Epoch 91/100\n",
      "17/17 - 1s - loss: 0.0127 - mean_absolute_error: 0.0895 - val_loss: 0.0594 - val_mean_absolute_error: 0.1613 - 578ms/epoch - 34ms/step\n",
      "Epoch 92/100\n",
      "17/17 - 1s - loss: 0.0118 - mean_absolute_error: 0.0839 - val_loss: 0.0337 - val_mean_absolute_error: 0.1338 - 575ms/epoch - 34ms/step\n",
      "Epoch 93/100\n",
      "17/17 - 1s - loss: 0.0112 - mean_absolute_error: 0.0783 - val_loss: 0.0385 - val_mean_absolute_error: 0.1359 - 579ms/epoch - 34ms/step\n",
      "Epoch 94/100\n",
      "17/17 - 1s - loss: 0.0113 - mean_absolute_error: 0.0777 - val_loss: 0.0600 - val_mean_absolute_error: 0.1782 - 596ms/epoch - 35ms/step\n",
      "Epoch 95/100\n",
      "17/17 - 1s - loss: 0.0125 - mean_absolute_error: 0.0866 - val_loss: 0.0313 - val_mean_absolute_error: 0.1278 - 589ms/epoch - 35ms/step\n",
      "Epoch 96/100\n",
      "17/17 - 1s - loss: 0.0103 - mean_absolute_error: 0.0821 - val_loss: 0.0502 - val_mean_absolute_error: 0.1453 - 578ms/epoch - 34ms/step\n",
      "Epoch 97/100\n",
      "17/17 - 1s - loss: 0.0094 - mean_absolute_error: 0.0737 - val_loss: 0.0439 - val_mean_absolute_error: 0.1546 - 575ms/epoch - 34ms/step\n",
      "Epoch 98/100\n",
      "17/17 - 1s - loss: 0.0092 - mean_absolute_error: 0.0733 - val_loss: 0.0343 - val_mean_absolute_error: 0.1242 - 580ms/epoch - 34ms/step\n",
      "Epoch 99/100\n",
      "17/17 - 1s - loss: 0.0071 - mean_absolute_error: 0.0615 - val_loss: 0.0415 - val_mean_absolute_error: 0.1361 - 572ms/epoch - 34ms/step\n",
      "Epoch 100/100\n",
      "17/17 - 1s - loss: 0.0065 - mean_absolute_error: 0.0613 - val_loss: 0.0350 - val_mean_absolute_error: 0.1276 - 576ms/epoch - 34ms/step\n"
     ]
    }
   ],
   "source": [
    "model = Sequential()\n",
    "model.add(SimpleRNN(128, activation='relu',\n",
    "                    input_shape=(None, 1)))\n",
    "model.add(Dense(1, activation='linear'))\n",
    "model.compile(loss='mean_squared_error', optimizer = 'adam',\n",
    "              metrics =['mean_absolute_error'])\n",
    "model.summary()\n",
    "history = model.fit(train_X, train_y,\n",
    "                    validation_data\n",
    "                    = (test_X, test_y), epochs=EPOCHS,\n",
    "                    batch_size=BATCH_SIZE, verbose=2,\n",
    "                    shuffle=True)"
   ]
  },
  {
   "cell_type": "markdown",
   "id": "a75ebd1f",
   "metadata": {},
   "source": [
    "## Create naive prediction based on standardized data"
   ]
  },
  {
   "cell_type": "code",
   "execution_count": 17,
   "id": "157c0085",
   "metadata": {},
   "outputs": [
    {
     "name": "stdout",
     "output_type": "stream",
     "text": [
      "naive test mse:  0.4888956\n",
      "naive test mean abs:  0.49055263\n"
     ]
    }
   ],
   "source": [
    "test_output = test_sales_std[MIN:]\n",
    "naive_prediction = test_sales_std[MIN-1:-1]\n",
    "mean_squared_error = np.mean(np.square(naive_prediction\n",
    "                                       - test_output))\n",
    "mean_abs_error = np.mean(np.abs(naive_prediction\n",
    "                                - test_output))\n",
    "print('naive test mse: ', mean_squared_error)\n",
    "print('naive test mean abs: ', mean_abs_error)"
   ]
  },
  {
   "cell_type": "code",
   "execution_count": 18,
   "id": "a9587879",
   "metadata": {},
   "outputs": [],
   "source": [
    "# The RNN model does a significantly better job than the naive model"
   ]
  },
  {
   "cell_type": "code",
   "execution_count": 19,
   "id": "7a84740e",
   "metadata": {},
   "outputs": [],
   "source": [
    "predicted_test = model.predict(test_X, len(test_X))\n",
    "predicted_test = np.reshape(predicted_test,\n",
    "                            (len(predicted_test)))\n",
    "predicted_test = predicted_test * stddev + mean"
   ]
  },
  {
   "cell_type": "code",
   "execution_count": 20,
   "id": "6ec3f562",
   "metadata": {},
   "outputs": [
    {
     "data": {
      "image/png": "[encoded data removed]",
      "text/plain": [
       "<Figure size 432x288 with 1 Axes>"
      ]
     },
     "metadata": {
      "needs_background": "light"
     },
     "output_type": "display_data"
    }
   ],
   "source": [
    "x = range(len(test_sales)-MIN)\n",
    "plt.plot(x, predicted_test, 'm-',\n",
    "         label='predicted test_output')\n",
    "plt.plot(x, test_sales[-(len(test_sales)-MIN):],\n",
    "         'g-', label='actual test_output')\n",
    "plt.title('Book sales')\n",
    "plt.axis([0, 55, 0.0, 3000.0])\n",
    "plt.xlabel('months')\n",
    "plt.ylabel('Predicted book sales')\n",
    "plt.legend()\n",
    "plt.show()"
   ]
  },
  {
   "cell_type": "code",
   "execution_count": null,
   "id": "a1ca02b9",
   "metadata": {},
   "outputs": [],
   "source": []
  },
  {
   "cell_type": "code",
   "execution_count": null,
   "id": "db1f3e7f",
   "metadata": {},
   "outputs": [],
   "source": []
  },
  {
   "cell_type": "code",
   "execution_count": null,
   "id": "e79f667b",
   "metadata": {},
   "outputs": [],
   "source": []
  }
 ],
 "metadata": {
  "kernelspec": {
   "display_name": "Python 3 (ipykernel)",
   "language": "python",
   "name": "python3"
  },
  "language_info": {
   "codemirror_mode": {
    "name": "ipython",
    "version": 3
   },
   "file_extension": ".py",
   "mimetype": "text/x-python",
   "name": "python",
   "nbconvert_exporter": "python",
   "pygments_lexer": "ipython3",
   "version": "3.8.12"
  }
 },
 "nbformat": 4,
 "nbformat_minor": 5
}
